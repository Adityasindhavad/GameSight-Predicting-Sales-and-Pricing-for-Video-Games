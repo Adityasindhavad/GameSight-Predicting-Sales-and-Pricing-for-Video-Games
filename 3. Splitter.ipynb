{
 "cells": [
  {
   "cell_type": "code",
   "execution_count": 1,
   "id": "bcbf67c4-39bf-4cdd-97ae-f0093ed32571",
   "metadata": {},
   "outputs": [
    {
     "name": "stdout",
     "output_type": "stream",
     "text": [
      "Requirement already satisfied: pandas in d:\\anaconda\\lib\\site-packages (2.2.2)\n",
      "Requirement already satisfied: openpyxl in d:\\anaconda\\lib\\site-packages (3.1.2)\n",
      "Requirement already satisfied: numpy>=1.26.0 in d:\\anaconda\\lib\\site-packages (from pandas) (1.26.4)\n",
      "Requirement already satisfied: python-dateutil>=2.8.2 in c:\\users\\adity\\appdata\\roaming\\python\\python312\\site-packages (from pandas) (2.9.0.post0)\n",
      "Requirement already satisfied: pytz>=2020.1 in d:\\anaconda\\lib\\site-packages (from pandas) (2024.1)\n",
      "Requirement already satisfied: tzdata>=2022.7 in d:\\anaconda\\lib\\site-packages (from pandas) (2023.3)\n",
      "Requirement already satisfied: et-xmlfile in d:\\anaconda\\lib\\site-packages (from openpyxl) (1.1.0)\n",
      "Requirement already satisfied: six>=1.5 in c:\\users\\adity\\appdata\\roaming\\python\\python312\\site-packages (from python-dateutil>=2.8.2->pandas) (1.16.0)\n"
     ]
    }
   ],
   "source": [
    "!pip install pandas openpyxl\n"
   ]
  },
  {
   "cell_type": "code",
   "execution_count": 2,
   "id": "5845983f-ade5-44f0-b8e7-b391fdec760b",
   "metadata": {},
   "outputs": [
    {
     "name": "stdout",
     "output_type": "stream",
     "text": [
      "Successfully created output_file_1.xlsx\n",
      "Successfully created output_file_2.xlsx\n",
      "Successfully created output_file_3.xlsx\n",
      "Successfully created output_file_4.xlsx\n",
      "Successfully created output_file_5.xlsx\n",
      "Successfully created output_file_6.xlsx\n",
      "Successfully created output_file_7.xlsx\n",
      "Successfully created output_file_8.xlsx\n",
      "Successfully created output_file_9.xlsx\n",
      "Successfully created output_file_10.xlsx\n",
      "Successfully created output_file_11.xlsx\n",
      "Successfully created output_file_12.xlsx\n",
      "Successfully created output_file_13.xlsx\n",
      "Successfully created output_file_14.xlsx\n",
      "Successfully created output_file_15.xlsx\n",
      "Successfully created output_file_16.xlsx\n",
      "Successfully created output_file_17.xlsx\n",
      "Successfully created output_file_18.xlsx\n",
      "Successfully created output_file_19.xlsx\n",
      "Successfully created output_file_20.xlsx\n",
      "Successfully created output_file_21.xlsx\n",
      "Successfully created output_file_22.xlsx\n",
      "Successfully created output_file_23.xlsx\n",
      "Successfully created output_file_24.xlsx\n",
      "Successfully created output_file_25.xlsx\n",
      "Successfully created output_file_26.xlsx\n",
      "Successfully created output_file_27.xlsx\n",
      "Successfully created output_file_28.xlsx\n",
      "Successfully created output_file_29.xlsx\n",
      "Successfully created output_file_30.xlsx\n",
      "Successfully created output_file_31.xlsx\n",
      "Successfully created output_file_32.xlsx\n",
      "Successfully created output_file_33.xlsx\n",
      "Successfully created output_file_34.xlsx\n",
      "Successfully created output_file_35.xlsx\n",
      "Successfully created output_file_36.xlsx\n",
      "Successfully created output_file_37.xlsx\n",
      "Successfully created output_file_38.xlsx\n",
      "Successfully created output_file_39.xlsx\n",
      "Successfully created output_file_40.xlsx\n",
      "Successfully created output_file_41.xlsx\n",
      "Successfully created output_file_42.xlsx\n"
     ]
    }
   ],
   "source": [
    "import pandas as pd\n",
    "\n",
    "# Function to split Excel file into smaller files\n",
    "def split_excel(file_path, rows_per_file=34):\n",
    "    # Read the Excel file\n",
    "    df = pd.read_excel(file_path)\n",
    "\n",
    "    # Calculate the number of smaller files\n",
    "    num_files = len(df) // rows_per_file + (1 if len(df) % rows_per_file != 0 else 0)\n",
    "\n",
    "    # Loop to create each smaller file\n",
    "    for i in range(num_files):\n",
    "        # Determine the range of rows for the current file\n",
    "        start_row = i * rows_per_file\n",
    "        end_row = start_row + rows_per_file\n",
    "        chunk_df = df.iloc[start_row:end_row]\n",
    "\n",
    "        # Create a new Excel file for this chunk\n",
    "        chunk_file_name = f'output_file_{i+1}.xlsx'\n",
    "        chunk_df.to_excel(chunk_file_name, index=False)\n",
    "\n",
    "        print(f'Successfully created {chunk_file_name}')\n",
    "\n",
    "# Path to your Excel file\n",
    "file_path = 'excel.xlsx'\n",
    "\n",
    "# Call the function to split the file\n",
    "split_excel(file_path)\n"
   ]
  },
  {
   "cell_type": "code",
   "execution_count": null,
   "id": "947dd5ef-6054-47b2-aefa-5dc0748c114c",
   "metadata": {},
   "outputs": [],
   "source": []
  }
 ],
 "metadata": {
  "kernelspec": {
   "display_name": "Python 3 (ipykernel)",
   "language": "python",
   "name": "python3"
  },
  "language_info": {
   "codemirror_mode": {
    "name": "ipython",
    "version": 3
   },
   "file_extension": ".py",
   "mimetype": "text/x-python",
   "name": "python",
   "nbconvert_exporter": "python",
   "pygments_lexer": "ipython3",
   "version": "3.12.4"
  }
 },
 "nbformat": 4,
 "nbformat_minor": 5
}
